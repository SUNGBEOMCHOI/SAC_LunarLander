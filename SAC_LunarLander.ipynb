{
  "nbformat": 4,
  "nbformat_minor": 0,
  "metadata": {
    "colab": {
      "provenance": [],
      "collapsed_sections": [],
      "authorship_tag": "ABX9TyMur1+mY+8Cc5cp1N4WBRa9",
      "include_colab_link": true
    },
    "kernelspec": {
      "name": "python3",
      "display_name": "Python 3"
    },
    "language_info": {
      "name": "python"
    },
    "accelerator": "GPU"
  },
  "cells": [
    {
      "cell_type": "markdown",
      "metadata": {
        "id": "view-in-github",
        "colab_type": "text"
      },
      "source": [
        "<a href=\"https://colab.research.google.com/github/SUNGBEOMCHOI/SAC_LunarLander/blob/main/SAC_LunarLander.ipynb\" target=\"_parent\"><img src=\"https://colab.research.google.com/assets/colab-badge.svg\" alt=\"Open In Colab\"/></a>"
      ]
    },
    {
      "cell_type": "code",
      "source": [
        "from IPython.display import clear_output "
      ],
      "metadata": {
        "id": "fB2xPVyiqwXA"
      },
      "execution_count": 1,
      "outputs": []
    },
    {
      "cell_type": "code",
      "source": [
        "!pip install gym[box2d]\n",
        "clear_output()"
      ],
      "metadata": {
        "id": "dEAhtSExqton"
      },
      "execution_count": 3,
      "outputs": []
    },
    {
      "cell_type": "code",
      "execution_count": 2,
      "metadata": {
        "colab": {
          "base_uri": "https://localhost:8080/"
        },
        "id": "jT5DP_iIqdNp",
        "outputId": "431be2c8-e44b-41be-b171-92aff9024da8"
      },
      "outputs": [
        {
          "output_type": "stream",
          "name": "stdout",
          "text": [
            "Cloning into 'SAC_LunarLander'...\n",
            "remote: Enumerating objects: 82, done.\u001b[K\n",
            "remote: Counting objects: 100% (82/82), done.\u001b[K\n",
            "remote: Compressing objects: 100% (46/46), done.\u001b[K\n",
            "remote: Total 82 (delta 41), reused 63 (delta 24), pack-reused 0\u001b[K\n",
            "Unpacking objects: 100% (82/82), done.\n"
          ]
        }
      ],
      "source": [
        "!git clone https://github.com/SUNGBEOMCHOI/SAC_LunarLander.git"
      ]
    },
    {
      "cell_type": "code",
      "source": [
        "%cd SAC_LunarLander"
      ],
      "metadata": {
        "colab": {
          "base_uri": "https://localhost:8080/"
        },
        "id": "AE8o5kUCqlJN",
        "outputId": "42634f79-7942-45d2-e81d-e3d3e54c4f49"
      },
      "execution_count": 4,
      "outputs": [
        {
          "output_type": "stream",
          "name": "stdout",
          "text": [
            "/content/SAC_LunarLander\n"
          ]
        }
      ]
    },
    {
      "cell_type": "code",
      "source": [
        "!python train.py"
      ],
      "metadata": {
        "colab": {
          "base_uri": "https://localhost:8080/"
        },
        "id": "tGITr44Qqnxi",
        "outputId": "57af9b7f-91c0-4b65-a3a4-68cdee575309"
      },
      "execution_count": 5,
      "outputs": [
        {
          "output_type": "stream",
          "name": "stdout",
          "text": [
            "----- train steps: 0001000 ----- average score: -434.74 -----\n",
            "----- train steps: 0002000 ----- average score: -158.98 -----\n",
            "----- train steps: 0003000 ----- average score: -259.50 -----\n",
            "----- train steps: 0004000 ----- average score: -86.80 -----\n",
            "----- train steps: 0005000 ----- average score: -100.64 -----\n",
            "----- train steps: 0006000 ----- average score: -57.58 -----\n",
            "----- train steps: 0007000 ----- average score: -33.87 -----\n",
            "----- train steps: 0008000 ----- average score: -109.60 -----\n",
            "----- train steps: 0009000 ----- average score: -68.18 -----\n",
            "----- train steps: 0010000 ----- average score: -129.76 -----\n",
            "----- train steps: 0011000 ----- average score: -235.47 -----\n",
            "----- train steps: 0012000 ----- average score: -128.97 -----\n",
            "----- train steps: 0013000 ----- average score: -77.66 -----\n",
            "----- train steps: 0014000 ----- average score: -121.23 -----\n",
            "----- train steps: 0015000 ----- average score: -97.11 -----\n",
            "----- train steps: 0016000 ----- average score: -117.97 -----\n",
            "----- train steps: 0017000 ----- average score: -100.21 -----\n",
            "----- train steps: 0018000 ----- average score: 148.29 -----\n",
            "----- train steps: 0019000 ----- average score:  16.55 -----\n",
            "----- train steps: 0020000 ----- average score: -55.45 -----\n",
            "----- train steps: 0021000 ----- average score:   4.65 -----\n",
            "----- train steps: 0022000 ----- average score:   1.16 -----\n",
            "----- train steps: 0023000 ----- average score:  23.16 -----\n",
            "----- train steps: 0024000 ----- average score:  16.46 -----\n",
            "----- train steps: 0025000 ----- average score:   8.14 -----\n",
            "----- train steps: 0026000 ----- average score:  -3.15 -----\n",
            "----- train steps: 0027000 ----- average score: -46.53 -----\n",
            "----- train steps: 0028000 ----- average score: 274.47 -----\n",
            "----- train steps: 0029000 ----- average score: 253.58 -----\n",
            "----- train steps: 0030000 ----- average score: 216.54 -----\n",
            "----- train steps: 0031000 ----- average score: 208.75 -----\n",
            "----- train steps: 0032000 ----- average score:  44.18 -----\n",
            "----- train steps: 0033000 ----- average score:  33.12 -----\n",
            "----- train steps: 0034000 ----- average score:  26.49 -----\n",
            "----- train steps: 0035000 ----- average score: -53.38 -----\n",
            "----- train steps: 0036000 ----- average score: 164.05 -----\n",
            "----- train steps: 0037000 ----- average score: 180.80 -----\n",
            "----- train steps: 0038000 ----- average score: 188.74 -----\n",
            "----- train steps: 0039000 ----- average score: 197.59 -----\n",
            "----- train steps: 0040000 ----- average score: 241.89 -----\n",
            "----- train steps: 0041000 ----- average score: 277.90 -----\n",
            "----- train steps: 0042000 ----- average score: -432.47 -----\n",
            "----- train steps: 0043000 ----- average score: -467.01 -----\n",
            "----- train steps: 0044000 ----- average score: 175.86 -----\n",
            "----- train steps: 0045000 ----- average score:  11.88 -----\n",
            "----- train steps: 0046000 ----- average score:   3.37 -----\n",
            "----- train steps: 0047000 ----- average score:  13.76 -----\n",
            "----- train steps: 0048000 ----- average score:  13.08 -----\n",
            "----- train steps: 0049000 ----- average score:  -5.66 -----\n",
            "----- train steps: 0050000 ----- average score: -34.45 -----\n",
            "----- train steps: 0051000 ----- average score: -33.18 -----\n",
            "----- train steps: 0052000 ----- average score: -32.94 -----\n",
            "----- train steps: 0053000 ----- average score: -45.28 -----\n",
            "----- train steps: 0054000 ----- average score: -35.68 -----\n",
            "----- train steps: 0055000 ----- average score: -50.63 -----\n",
            "----- train steps: 0056000 ----- average score: -64.83 -----\n",
            "----- train steps: 0057000 ----- average score: -94.85 -----\n",
            "----- train steps: 0058000 ----- average score: -97.39 -----\n",
            "----- train steps: 0059000 ----- average score: -39.47 -----\n",
            "----- train steps: 0060000 ----- average score: -71.83 -----\n",
            "----- train steps: 0061000 ----- average score: -88.69 -----\n",
            "----- train steps: 0062000 ----- average score: -77.61 -----\n",
            "----- train steps: 0063000 ----- average score: -74.11 -----\n",
            "----- train steps: 0064000 ----- average score: -48.43 -----\n",
            "----- train steps: 0065000 ----- average score: -10.26 -----\n",
            "----- train steps: 0066000 ----- average score:  -0.74 -----\n",
            "----- train steps: 0067000 ----- average score:  12.09 -----\n",
            "----- train steps: 0068000 ----- average score:  10.06 -----\n",
            "----- train steps: 0069000 ----- average score: 146.76 -----\n",
            "----- train steps: 0070000 ----- average score:  -7.16 -----\n",
            "----- train steps: 0071000 ----- average score: -10.83 -----\n",
            "----- train steps: 0072000 ----- average score:  -5.76 -----\n",
            "----- train steps: 0073000 ----- average score: 137.36 -----\n",
            "----- train steps: 0074000 ----- average score: 177.77 -----\n",
            "----- train steps: 0075000 ----- average score: 153.01 -----\n",
            "----- train steps: 0076000 ----- average score: 169.55 -----\n",
            "----- train steps: 0077000 ----- average score: 187.66 -----\n",
            "----- train steps: 0078000 ----- average score: 191.90 -----\n",
            "----- train steps: 0079000 ----- average score: 212.13 -----\n",
            "----- train steps: 0080000 ----- average score: 204.10 -----\n",
            "----- train steps: 0081000 ----- average score: 208.41 -----\n",
            "----- train steps: 0082000 ----- average score: 222.32 -----\n",
            "----- train steps: 0083000 ----- average score: 201.35 -----\n",
            "----- train steps: 0084000 ----- average score: 206.32 -----\n",
            "----- train steps: 0085000 ----- average score: 221.98 -----\n",
            "----- train steps: 0086000 ----- average score: 210.37 -----\n",
            "----- train steps: 0087000 ----- average score: 201.63 -----\n",
            "----- train steps: 0088000 ----- average score: 216.57 -----\n",
            "----- train steps: 0089000 ----- average score:  94.23 -----\n",
            "----- train steps: 0090000 ----- average score:  94.97 -----\n",
            "----- train steps: 0091000 ----- average score: 222.76 -----\n",
            "----- train steps: 0092000 ----- average score: 220.77 -----\n",
            "----- train steps: 0093000 ----- average score: 201.15 -----\n",
            "----- train steps: 0094000 ----- average score: 212.09 -----\n",
            "----- train steps: 0095000 ----- average score: 212.14 -----\n",
            "----- train steps: 0096000 ----- average score: 227.14 -----\n",
            "----- train steps: 0097000 ----- average score: 228.19 -----\n",
            "----- train steps: 0098000 ----- average score: 222.83 -----\n",
            "----- train steps: 0099000 ----- average score: 225.80 -----\n",
            "----- train steps: 0100000 ----- average score: 209.53 -----\n"
          ]
        }
      ]
    }
  ]
}